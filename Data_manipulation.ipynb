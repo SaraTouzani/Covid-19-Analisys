{
 "cells": [
  {
   "cell_type": "markdown",
   "metadata": {},
   "source": [
    "# COVID-19 Data Analisys"
   ]
  },
  {
   "cell_type": "markdown",
   "metadata": {
    "id": "sO25GJSWFO-F"
   },
   "source": [
    "This Notebook represents some manipulations done on Covid-19's Data where we extract knowledge in near-realtime from : \n",
    "\n",
    "\n",
    "*   COVID-19 Data provided by the Center for Systems Science and Engineering (CSSE) at Johns Hopkins University existing on the git's repository \"CSSEGISandData/COVID-19\"\n",
    "https://github.com/CSSEGISandData/COVID-19\n",
    "\n",
    "*   Data of countries and it's capitals to fill missing Data of States\n",
    "\n",
    "*   Data extracted using Twetter API where we analys tweets related to Covid-19"
   ]
  },
  {
   "cell_type": "code",
   "execution_count": 10,
   "metadata": {},
   "outputs": [],
   "source": [
    "#!pip install ipywidgets\n",
    "#!pip install matplotlib"
   ]
  },
  {
   "cell_type": "code",
   "execution_count": 124,
   "metadata": {
    "id": "aHW-tYcqzytu"
   },
   "outputs": [],
   "source": [
    "import pandas as pd \n",
    "import numpy as np\n",
    "import ipywidgets as widgets \n",
    "from IPython.display import display \n",
    "from urllib.parse import urlencode \n",
    "import requests \n",
    "import re \n",
    "import matplotlib.pyplot as plt\n",
    "import unidecode\n",
    "\n",
    "GOOGLE_API_KEY='xxxxxxxxxxx'"
   ]
  },
  {
   "cell_type": "markdown",
   "metadata": {},
   "source": [
    "First thing we load data of confirmed / deaths /recovered cases around the word we change column names for country and state and fill missing values of states using Google API Geocode"
   ]
  },
  {
   "cell_type": "code",
   "execution_count": 72,
   "metadata": {
    "id": "YhmJLZujr10G"
   },
   "outputs": [],
   "source": [
    "def extract_adress(lon,lat,key,data_type='json'):\n",
    "    \"\"\"\n",
    "    This function's purpous is to extract a human's readeble adress from a lat, lon cordinates\n",
    "    input: lat,lon cordinates passed\n",
    "         data_type data type to retrieve json by default \n",
    "         key : API key to access geocode service\n",
    "    output : Adress \n",
    "    \"\"\"\n",
    "    GOOGLE_API_KEY=key\n",
    "    endpoint = f\"https://maps.googleapis.com/maps/api/geocode/{data_type}\"\n",
    "    goe_latlon=(lat,lon)\n",
    "    params = {\"latlng\": str(goe_latlon)[1:-1],\"key\": GOOGLE_API_KEY}\n",
    "    url_params = urlencode(params)\n",
    "    sample = f\"https://maps.googleapis.com/maps/api/geocode/json?latlng=40.714224,-73.961452&key=YOUR_API_KEY\"\n",
    "    url = f\"{endpoint}?{url_params}\"\n",
    "    r = requests.get(url)\n",
    "    if r.status_code not in range(200,299):\n",
    "        #print(r.status_code)\n",
    "        return {}\n",
    "    else:\n",
    "        response=r.json()\n",
    "    return response\n",
    "\n",
    "\n",
    "english_check = re.compile(r\"[\\w']+\")\n",
    "word_check = re.compile(r\"[A-z]+\")\n",
    "regrex_skip_characters= '[^A-Za-zöéèàùüêôîóČšçó]+'\n",
    "\n",
    "def get_state(lon,lat,key,country=''):\n",
    "    \"\"\"\n",
    "    This function's purpous is to get the state related to (lat, lon) cordinates or returns the country's name if state isn't detected\n",
    "    input: lat,lon cordinates passed\n",
    "         key : API key to access geocode service\n",
    "    output : state \n",
    "    \"\"\"\n",
    "    response = ''\n",
    "    try:\n",
    "        response1 = extract_adress(lon,lat,key=GOOGLE_API_KEY)\n",
    "        response = response1['results'][0]['formatted_address']\n",
    "\n",
    "        if len((response).split(\",\"))<2: ## address contains only the country so fill state with country \n",
    "            state=response\n",
    "            state = unidecode.unidecode(state)\n",
    "            if not english_check.match((re.sub(' *', '',state.lower()))):\n",
    "                state=country\n",
    "            else:\n",
    "                pass\n",
    "            return state\n",
    "\n",
    "        else:\n",
    "            state = re.sub(regrex_skip_characters, ' ', response.split(\",\")[-2])## check last second elm if contains state\n",
    "            state = re.sub(' +', ' ',state)\n",
    "            state = unidecode.unidecode(state)\n",
    "            if not english_check.match((re.sub(' *', '',state.lower()))):\n",
    "                state = response.split(\",\")[-3]\n",
    "                state = re.sub(regrex_skip_characters, ' ', state)## check last third elm if contains state\n",
    "                state = re.sub(' +', ' ',state)\n",
    "                state = unidecode.unidecode(state)\n",
    "                if not english_check.match((re.sub(' *', '',state))):\n",
    "                    state=country\n",
    "                else:\n",
    "                    pass\n",
    "                \n",
    "                return state\n",
    "            else: \n",
    "                pass\n",
    "            return state\n",
    "        return state\n",
    "        \n",
    "    except:\n",
    "        state=country\n",
    "        return state"
   ]
  },
  {
   "cell_type": "code",
   "execution_count": 73,
   "metadata": {
    "id": "mys3jEEJZFOB"
   },
   "outputs": [],
   "source": [
    "confirmed_data = pd.read_csv(\"https://raw.githubusercontent.com/CSSEGISandData/COVID-19/master/csse_covid_19_data/csse_covid_19_time_series/time_series_covid19_confirmed_global.csv\")\n",
    "death_data = pd.read_csv('https://raw.githubusercontent.com/CSSEGISandData/COVID-19/master/csse_covid_19_data/csse_covid_19_time_series/time_series_covid19_deaths_global.csv')\n",
    "recovered_data = pd.read_csv('https://raw.githubusercontent.com/CSSEGISandData/COVID-19/master/csse_covid_19_data/csse_covid_19_time_series/time_series_covid19_recovered_global.csv')"
   ]
  },
  {
   "cell_type": "code",
   "execution_count": 74,
   "metadata": {},
   "outputs": [],
   "source": [
    "confirmed_data = confirmed_data.rename({'Province/State': 'State','Country/Region':'Country'},axis='columns')\n",
    "death_data = death_data.rename({'Province/State': 'State','Country/Region':'Country'},axis='columns')\n",
    "recovered_data = recovered_data.rename({'Province/State': 'State','Country/Region':'Country'},axis='columns')"
   ]
  },
  {
   "cell_type": "code",
   "execution_count": 75,
   "metadata": {},
   "outputs": [],
   "source": [
    "confirmed_data[\"State_cleaned\"] = confirmed_data[(confirmed_data['State']).isnull()][['Lat','Long','Country']].apply(lambda x : get_state(lat=x['Lat'],lon=x['Long'],country=x['Country'],key=GOOGLE_API_KEY),axis=1)\n",
    "death_data[\"State_cleaned\"] = death_data[(death_data['State']).isnull()][['Lat','Long','Country']].apply(lambda x : get_state(lat=x['Lat'],lon=x['Long'],country=x['Country'],key=GOOGLE_API_KEY),axis=1)\n",
    "recovered_data[\"State_cleaned\"] = recovered_data[(recovered_data['State']).isnull()][['Lat','Long','Country']].apply(lambda x : get_state(lat=x['Lat'],lon=x['Long'],country=x['Country'],key=GOOGLE_API_KEY),axis=1)"
   ]
  },
  {
   "cell_type": "markdown",
   "metadata": {
    "id": "pkInTTLrDGf5"
   },
   "source": [
    "second thing we merge dataframes of confirmed / deaths /recovered cases around the word into a single dataframe aftering pivoting the counts of each date (column->rows)\n",
    "\n"
   ]
  },
  {
   "cell_type": "code",
   "execution_count": 80,
   "metadata": {
    "id": "EKapueGcZFtC"
   },
   "outputs": [],
   "source": [
    "confirmed_data = confirmed_data.melt(['State','State_cleaned', 'Country', 'Lat', 'Long'])\n",
    "confirmed_data = confirmed_data.rename({'variable': 'Date','value':'Confirmed'},axis='columns')\n",
    "\n",
    "death_data = death_data.melt(['State','State_cleaned', 'Country', 'Lat', 'Long'])\n",
    "death_data = death_data.rename({'variable': 'Date','value':'Death'},axis='columns')\n",
    "\n",
    "recovered_data = recovered_data.melt(['State','State_cleaned', 'Country', 'Lat', 'Long'])\n",
    "recovered_data = recovered_data.rename({'variable': 'Date','value':'Recovered'},axis='columns')"
   ]
  },
  {
   "cell_type": "code",
   "execution_count": 81,
   "metadata": {
    "id": "Fhchb7yu5t7t"
   },
   "outputs": [
    {
     "name": "stderr",
     "output_type": "stream",
     "text": [
      "/home/toutou/anaconda3/lib/python3.8/site-packages/pandas/core/indexes/multi.py:3365: RuntimeWarning: The values in the array are unorderable. Pass `sort=False` to suppress this warning.\n",
      "  uniq_tuples = lib.fast_unique_multiple([self._values, other._values], sort=sort)\n"
     ]
    }
   ],
   "source": [
    "combined_data = [confirmed_data,death_data,recovered_data]\n",
    "combined_data = [df.set_index(['State','State_cleaned', 'Country', 'Lat', 'Long','Date']) for df in combined_data]\n",
    "combined_data = combined_data[0].join(combined_data[1:]).reset_index()\n",
    "combined_data[['Lat', 'Long','Confirmed','Death','Recovered']] = combined_data[['Lat', 'Long','Confirmed','Death','Recovered']].apply(pd.to_numeric)\n",
    "combined_data[['Date']] = combined_data[['Date']].apply(pd.to_datetime)"
   ]
  },
  {
   "cell_type": "markdown",
   "metadata": {
    "id": "vnvEIwfXEBEA"
   },
   "source": [
    "Some states are marked missing in our dataset this is why we're going to try to get them throught localisation(lon,lat) using the API of Google Maps geocode in Google Cloud Platform if the state was found otherwise we'll replace it with the country's name for as a first step and later we're going to replace it with the country's capital name"
   ]
  },
  {
   "cell_type": "code",
   "execution_count": 9,
   "metadata": {
    "colab": {
     "base_uri": "https://localhost:8080/",
     "height": 170
    },
    "id": "waSxWk45weTK",
    "outputId": "8f0abf50-2a3d-4242-8bf5-0668adde0f3e"
   },
   "outputs": [
    {
     "data": {
      "text/plain": [
       "State         True\n",
       "Country      False\n",
       "Lat          False\n",
       "Long         False\n",
       "Date         False\n",
       "Confirmed    False\n",
       "Death         True\n",
       "Recovered     True\n",
       "dtype: bool"
      ]
     },
     "execution_count": 9,
     "metadata": {},
     "output_type": "execute_result"
    }
   ],
   "source": [
    "combined_data.isnull().any()"
   ]
  },
  {
   "cell_type": "markdown",
   "metadata": {},
   "source": [
    "Those are the countries that have null values in states to complete"
   ]
  },
  {
   "cell_type": "code",
   "execution_count": 17,
   "metadata": {
    "colab": {
     "base_uri": "https://localhost:8080/",
     "height": 221
    },
    "id": "rRDVbMSIf68q",
    "outputId": "539c2772-d06b-4363-d2db-7d328b212eb8"
   },
   "outputs": [
    {
     "data": {
      "text/plain": [
       "United Arab Emirates    252\n",
       "Argentina               252\n",
       "Sri Lanka               252\n",
       "Qatar                   252\n",
       "Angola                  252\n",
       "                       ... \n",
       "Albania                 252\n",
       "Switzerland             252\n",
       "Grenada                 252\n",
       "Egypt                   252\n",
       "Romania                 252\n",
       "Name: Country, Length: 185, dtype: int64"
      ]
     },
     "execution_count": 17,
     "metadata": {},
     "output_type": "execute_result"
    }
   ],
   "source": [
    "combined_data[(combined_data.State.isnull())==True]['Country'].value_counts()"
   ]
  },
  {
   "cell_type": "markdown",
   "metadata": {},
   "source": [
    "First thing let's make a copy of our dataset so we won't have to redo the processing using Google maps API, "
   ]
  },
  {
   "cell_type": "code",
   "execution_count": 83,
   "metadata": {},
   "outputs": [],
   "source": [
    "combined_data_cp=combined_data.copy()"
   ]
  },
  {
   "cell_type": "markdown",
   "metadata": {},
   "source": [
    "Here we're going to merge existing states from the original Dataset with the one we found"
   ]
  },
  {
   "cell_type": "code",
   "execution_count": 84,
   "metadata": {},
   "outputs": [],
   "source": [
    "combined_data_cp['State_c'] = combined_data_cp.apply(lambda x:x['State'] if (np.all(pd.notnull(x['State']))) else x['State_cleaned'],axis=1)"
   ]
  },
  {
   "cell_type": "code",
   "execution_count": 98,
   "metadata": {},
   "outputs": [],
   "source": [
    "combined_data_cp[['Country','State_c', 'Lat', 'Long', 'Date', 'Confirmed',\n",
    "       'Death', 'Recovered']].to_csv(\"covid.csv\",sep=',')"
   ]
  },
  {
   "cell_type": "markdown",
   "metadata": {},
   "source": [
    "The folowing countries represent the ones where it's difficult to retrieve the state this is why we've putting the country's name insteed but later we're going to use it's capital's name instead"
   ]
  },
  {
   "cell_type": "code",
   "execution_count": 118,
   "metadata": {},
   "outputs": [
    {
     "data": {
      "text/plain": [
       "MS Zaandam            253\n",
       "Thailand              253\n",
       "Djibouti              253\n",
       "Lithuania             253\n",
       "Diamond Princess      253\n",
       "Bulgaria              253\n",
       "Iran                  253\n",
       "Philippines           253\n",
       "Western Sahara        253\n",
       "Iraq                  253\n",
       "Saudi Arabia          253\n",
       "Maldives              253\n",
       "Pakistan              253\n",
       "West Bank and Gaza    253\n",
       "Burma                 253\n",
       "Name: Country, dtype: int64"
      ]
     },
     "execution_count": 118,
     "metadata": {},
     "output_type": "execute_result"
    }
   ],
   "source": [
    "combined_data_cp[combined_data_cp.Country==combined_data_cp.State_c]['Country'].value_counts()"
   ]
  },
  {
   "cell_type": "code",
   "execution_count": 104,
   "metadata": {
    "scrolled": true
   },
   "outputs": [],
   "source": [
    "import pandas as pd\n",
    "\n",
    "combined_data=pd.read_csv(\"covid.csv\",sep=',',index_col=0)\n",
    "\n",
    "capital_data = pd.read_csv('https://raw.githubusercontent.com/icyrockcom/country-capitals/master/data/country-list.csv')\n",
    "capital_data = capital_data.rename({'capital': 'Capital','country':'Country'},axis='columns')\n",
    "\n",
    "combined_data_cptl_merged = pd.merge(capital_data[['Country','Capital']],combined_data, on='Country',how='right')"
   ]
  },
  {
   "cell_type": "code",
   "execution_count": 114,
   "metadata": {},
   "outputs": [],
   "source": [
    "combined_data_cptl_merged['State_cleaned'] = combined_data_cptl_merged[['Capital','Country','State_c']].apply(lambda x:x['Capital'] if ((x['State_c']==x['Country'])) else x['State_c'],axis=1)\n",
    "\n",
    "combined_data_cptl_merged[['Country','State_cleaned', 'Lat', 'Long', 'Date', 'Confirmed',\n",
    "       'Death', 'Recovered']].to_csv(\"covid.csv\",sep=',')"
   ]
  },
  {
   "cell_type": "code",
   "execution_count": 120,
   "metadata": {},
   "outputs": [
    {
     "data": {
      "text/html": [
       "<div>\n",
       "<style scoped>\n",
       "    .dataframe tbody tr th:only-of-type {\n",
       "        vertical-align: middle;\n",
       "    }\n",
       "\n",
       "    .dataframe tbody tr th {\n",
       "        vertical-align: top;\n",
       "    }\n",
       "\n",
       "    .dataframe thead th {\n",
       "        text-align: right;\n",
       "    }\n",
       "</style>\n",
       "<table border=\"1\" class=\"dataframe\">\n",
       "  <thead>\n",
       "    <tr style=\"text-align: right;\">\n",
       "      <th></th>\n",
       "      <th>Country</th>\n",
       "      <th>Capital</th>\n",
       "      <th>State_c</th>\n",
       "      <th>Lat</th>\n",
       "      <th>Long</th>\n",
       "      <th>Date</th>\n",
       "      <th>Confirmed</th>\n",
       "      <th>Death</th>\n",
       "      <th>Recovered</th>\n",
       "      <th>State_cleaned</th>\n",
       "    </tr>\n",
       "  </thead>\n",
       "  <tbody>\n",
       "    <tr>\n",
       "      <th>0</th>\n",
       "      <td>Afghanistan</td>\n",
       "      <td>Kabul</td>\n",
       "      <td>Nawur</td>\n",
       "      <td>33.93911</td>\n",
       "      <td>67.709953</td>\n",
       "      <td>2020-01-22</td>\n",
       "      <td>0.0</td>\n",
       "      <td>0.0</td>\n",
       "      <td>0.0</td>\n",
       "      <td>Nawur</td>\n",
       "    </tr>\n",
       "    <tr>\n",
       "      <th>1</th>\n",
       "      <td>Afghanistan</td>\n",
       "      <td>Kabul</td>\n",
       "      <td>Nawur</td>\n",
       "      <td>33.93911</td>\n",
       "      <td>67.709953</td>\n",
       "      <td>2020-01-23</td>\n",
       "      <td>0.0</td>\n",
       "      <td>0.0</td>\n",
       "      <td>0.0</td>\n",
       "      <td>Nawur</td>\n",
       "    </tr>\n",
       "    <tr>\n",
       "      <th>2</th>\n",
       "      <td>Afghanistan</td>\n",
       "      <td>Kabul</td>\n",
       "      <td>Nawur</td>\n",
       "      <td>33.93911</td>\n",
       "      <td>67.709953</td>\n",
       "      <td>2020-01-24</td>\n",
       "      <td>0.0</td>\n",
       "      <td>0.0</td>\n",
       "      <td>0.0</td>\n",
       "      <td>Nawur</td>\n",
       "    </tr>\n",
       "    <tr>\n",
       "      <th>3</th>\n",
       "      <td>Afghanistan</td>\n",
       "      <td>Kabul</td>\n",
       "      <td>Nawur</td>\n",
       "      <td>33.93911</td>\n",
       "      <td>67.709953</td>\n",
       "      <td>2020-01-25</td>\n",
       "      <td>0.0</td>\n",
       "      <td>0.0</td>\n",
       "      <td>0.0</td>\n",
       "      <td>Nawur</td>\n",
       "    </tr>\n",
       "    <tr>\n",
       "      <th>4</th>\n",
       "      <td>Afghanistan</td>\n",
       "      <td>Kabul</td>\n",
       "      <td>Nawur</td>\n",
       "      <td>33.93911</td>\n",
       "      <td>67.709953</td>\n",
       "      <td>2020-01-26</td>\n",
       "      <td>0.0</td>\n",
       "      <td>0.0</td>\n",
       "      <td>0.0</td>\n",
       "      <td>Nawur</td>\n",
       "    </tr>\n",
       "  </tbody>\n",
       "</table>\n",
       "</div>"
      ],
      "text/plain": [
       "       Country Capital State_c       Lat       Long        Date  Confirmed  \\\n",
       "0  Afghanistan   Kabul   Nawur  33.93911  67.709953  2020-01-22        0.0   \n",
       "1  Afghanistan   Kabul   Nawur  33.93911  67.709953  2020-01-23        0.0   \n",
       "2  Afghanistan   Kabul   Nawur  33.93911  67.709953  2020-01-24        0.0   \n",
       "3  Afghanistan   Kabul   Nawur  33.93911  67.709953  2020-01-25        0.0   \n",
       "4  Afghanistan   Kabul   Nawur  33.93911  67.709953  2020-01-26        0.0   \n",
       "\n",
       "   Death  Recovered State_cleaned  \n",
       "0    0.0        0.0         Nawur  \n",
       "1    0.0        0.0         Nawur  \n",
       "2    0.0        0.0         Nawur  \n",
       "3    0.0        0.0         Nawur  \n",
       "4    0.0        0.0         Nawur  "
      ]
     },
     "execution_count": 120,
     "metadata": {},
     "output_type": "execute_result"
    }
   ],
   "source": [
    "combined_data_cptl_merged.head()"
   ]
  }
 ],
 "metadata": {
  "colab": {
   "collapsed_sections": [],
   "name": "Covid_19_Analisys.ipynb",
   "provenance": []
  },
  "kernelspec": {
   "display_name": "Python 3",
   "language": "python",
   "name": "python3"
  },
  "widgets": {
   "application/vnd.jupyter.widget-state+json": {
    "53d966d478154d149363552bdfab433f": {
     "model_module": "@jupyter-widgets/controls",
     "model_name": "DescriptionStyleModel",
     "state": {
      "_model_module": "@jupyter-widgets/controls",
      "_model_module_version": "1.5.0",
      "_model_name": "DescriptionStyleModel",
      "_view_count": null,
      "_view_module": "@jupyter-widgets/base",
      "_view_module_version": "1.2.0",
      "_view_name": "StyleView",
      "description_width": ""
     }
    },
    "a64821e45e744e2b9cb7a94dc5ec8c41": {
     "model_module": "@jupyter-widgets/base",
     "model_name": "LayoutModel",
     "state": {
      "_model_module": "@jupyter-widgets/base",
      "_model_module_version": "1.2.0",
      "_model_name": "LayoutModel",
      "_view_count": null,
      "_view_module": "@jupyter-widgets/base",
      "_view_module_version": "1.2.0",
      "_view_name": "LayoutView",
      "align_content": null,
      "align_items": null,
      "align_self": null,
      "border": null,
      "bottom": null,
      "display": null,
      "flex": null,
      "flex_flow": null,
      "grid_area": null,
      "grid_auto_columns": null,
      "grid_auto_flow": null,
      "grid_auto_rows": null,
      "grid_column": null,
      "grid_gap": null,
      "grid_row": null,
      "grid_template_areas": null,
      "grid_template_columns": null,
      "grid_template_rows": null,
      "height": null,
      "justify_content": null,
      "justify_items": null,
      "left": null,
      "margin": null,
      "max_height": null,
      "max_width": null,
      "min_height": null,
      "min_width": null,
      "object_fit": null,
      "object_position": null,
      "order": null,
      "overflow": null,
      "overflow_x": null,
      "overflow_y": null,
      "padding": null,
      "right": null,
      "top": null,
      "visibility": null,
      "width": null
     }
    },
    "cacb6344bbfb465b9806b86400b7a490": {
     "model_module": "@jupyter-widgets/controls",
     "model_name": "DropdownModel",
     "state": {
      "_dom_classes": [],
      "_model_module": "@jupyter-widgets/controls",
      "_model_module_version": "1.5.0",
      "_model_name": "DropdownModel",
      "_options_labels": [
       "Sierra Leone",
       "Cuba",
       "Cameroon",
       "Morocco",
       "Eswatini",
       "Lithuania",
       "Congo (Brazzaville)",
       "Gabon",
       "Iceland",
       "Slovenia",
       "Somalia",
       "Bulgaria",
       "Georgia",
       "Lebanon",
       "Greece",
       "Belarus",
       "Benin",
       "Slovakia",
       "Uruguay",
       "Antigua and Barbuda",
       "Saint Kitts and Nevis",
       "Bhutan",
       "Ethiopia",
       "Saint Vincent and the Grenadines",
       "South Sudan",
       "Sweden",
       "US",
       "Liechtenstein",
       "Diamond Princess",
       "Kazakhstan",
       "Seychelles",
       "United Arab Emirates",
       "Congo (Kinshasa)",
       "Kuwait",
       "Albania",
       "Malawi",
       "Bangladesh",
       "Oman",
       "Italy",
       "Bosnia and Herzegovina",
       "Portugal",
       "Croatia",
       "Paraguay",
       "Spain",
       "Austria",
       "Cambodia",
       "Cyprus",
       "Fiji",
       "Andorra",
       "Mozambique",
       "Serbia",
       "Bolivia",
       "Iran",
       "Argentina",
       "Chile",
       "Mongolia",
       "El Salvador",
       "Algeria",
       "Azerbaijan",
       "Eritrea",
       "Kosovo",
       "Montenegro",
       "Philippines",
       "Bahamas",
       "Mauritius",
       "Liberia",
       "Chad",
       "Panama",
       "Papua New Guinea",
       "Qatar",
       "Syria",
       "France",
       "Pakistan",
       "Singapore",
       "Mauritania",
       "Peru",
       "Kyrgyzstan",
       "Barbados",
       "Sri Lanka",
       "Tanzania",
       "Guinea",
       "Ukraine",
       "West Bank and Gaza",
       "Australia",
       "Holy See",
       "Czechia",
       "Rwanda",
       "Monaco",
       "Dominican Republic",
       "Romania",
       "Equatorial Guinea",
       "Nicaragua",
       "Cabo Verde",
       "Dominica",
       "Venezuela",
       "Tunisia",
       "Guyana",
       "Sao Tome and Principe",
       "Burma",
       "Israel",
       "Poland",
       "Senegal",
       "Angola",
       "Zimbabwe",
       "Guatemala",
       "Nigeria",
       "Yemen",
       "Korea, South",
       "Botswana",
       "Germany",
       "Mali",
       "MS Zaandam",
       "Central African Republic",
       "Canada",
       "Thailand",
       "Tajikistan",
       "Mexico",
       "Denmark",
       "Hungary",
       "Saint Lucia",
       "China",
       "Colombia",
       "Finland",
       "Gambia",
       "Guinea-Bissau",
       "Maldives",
       "Madagascar",
       "Vietnam",
       "India",
       "Laos",
       "Lesotho",
       "New Zealand",
       "Saudi Arabia",
       "Timor-Leste",
       "United Kingdom",
       "Moldova",
       "Iraq",
       "San Marino",
       "Sudan",
       "North Macedonia",
       "Taiwan*",
       "Malaysia",
       "Belgium",
       "Belize",
       "South Africa",
       "Haiti",
       "Estonia",
       "Luxembourg",
       "Suriname",
       "Cote d'Ivoire",
       "Norway",
       "Grenada",
       "Latvia",
       "Uganda",
       "Brunei",
       "Togo",
       "Costa Rica",
       "Turkey",
       "Japan",
       "Jordan",
       "Indonesia",
       "Burkina Faso",
       "Niger",
       "Brazil",
       "Uzbekistan",
       "Trinidad and Tobago",
       "Zambia",
       "Honduras",
       "Western Sahara",
       "Ecuador",
       "Afghanistan",
       "Ghana",
       "Netherlands",
       "Kenya",
       "Libya",
       "Russia",
       "Nepal",
       "Malta",
       "Namibia",
       "Ireland",
       "Switzerland",
       "Jamaica",
       "Comoros",
       "Djibouti",
       "Bahrain",
       "Egypt",
       "Burundi",
       "Armenia"
      ],
      "_view_count": null,
      "_view_module": "@jupyter-widgets/controls",
      "_view_module_version": "1.5.0",
      "_view_name": "DropdownView",
      "description": "Region:",
      "description_tooltip": null,
      "disabled": false,
      "index": 71,
      "layout": "IPY_MODEL_a64821e45e744e2b9cb7a94dc5ec8c41",
      "style": "IPY_MODEL_53d966d478154d149363552bdfab433f"
     }
    }
   }
  }
 },
 "nbformat": 4,
 "nbformat_minor": 1
}
